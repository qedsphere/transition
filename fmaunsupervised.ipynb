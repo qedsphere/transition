{
 "cells": [
  {
   "cell_type": "code",
   "execution_count": 1,
   "metadata": {},
   "outputs": [],
   "source": [
    "import numpy as np\n",
    "from mnist.loader import MNIST\n",
    "import matplotlib.pyplot as plt\n",
    "import glob\n",
    "import os\n",
    "import h5py\n",
    "import librosa\n",
    "import umap\n",
    "import soundfile as sf\n",
    "\n",
    "from tqdm import tqdm\n",
    "from pathlib import Path\n",
    "%matplotlib inline\n",
    "import seaborn as sns\n",
    "sns.set(style='white', context='poster')\n",
    "\n",
    "batch_size=1000\n",
    "sample_rate = 16000 #minimum 8000 for sf.write \n",
    "clip_length=5 #how many clips, not how many files r processed. btw"
   ]
  },
  {
   "cell_type": "markdown",
   "metadata": {},
   "source": [
    "5 second clip splitter"
   ]
  },
  {
   "cell_type": "code",
   "execution_count": 2,
   "metadata": {},
   "outputs": [],
   "source": [
    "def split(loaded_audio, file_name, clip_length = 2):\n",
    "    chunk_samples = int(clip_length * sample_rate)\n",
    "    chunks = [loaded_audio[i:i + chunk_samples] for i in range(0, len(loaded_audio), chunk_samples)]\n",
    "    for i, chunk in enumerate(chunks): #thank u stack for this cool iterative\n",
    "        output_file = f\"fma_generated/{file_name}{i}.mp3\"\n",
    "        sf.write(output_file, chunk, sample_rate)\n",
    "    \n",
    "temp, _ = librosa.load('./fma_small/000/000002.mp3', sr=sample_rate)\n",
    "temp = librosa.util.normalize(temp)\n",
    "split(temp, '000002')\n",
    "\n",
    "#total 8000 tracks\n",
    "def load_batches(root_path, sample_rate, batch_size, clip_length = 5, output_dir='./fma_generated'):\n",
    "    os.makedirs(output_dir, exist_ok=True)\n",
    "    file_paths=[]\n",
    "    for root, dirs, files in os.walk(root_path):\n",
    "        for file in files:\n",
    "            if file.endswith('.mp3'):\n",
    "                file_paths.append(os.path.join(root, file))\n",
    "                #print(file)\n",
    "                \n",
    "    np.random.seed(88)\n",
    "    np.random.shuffle(file_paths)\n",
    "    \n",
    "    \n",
    "    chunk_samples = int(clip_length * sample_rate) #actual number of samples per chunkclip\n",
    "    \n",
    "    \n",
    "    file_index = 0\n",
    "    batch_index = 0\n",
    "    while file_index < len(file_paths):\n",
    "        batch_clips=[]\n",
    "        bathchs=[]\n",
    "        while len(batch_clips)<batch_size and file_index < len(file_paths):\n",
    "            file_path = file_paths[file_index]\n",
    "            try:\n",
    "                #print(f\"processing {os.path.basename(file_path)}\")\n",
    "                \n",
    "                audio, _ = librosa.load(file_path, sr=sample_rate)\n",
    "                filename = os.path.splitext(os.path.basename(file_path))[0]\n",
    "                \n",
    "                clip_index = 0\n",
    "                for i in range(0,len(audio), chunk_samples):\n",
    "                    chunk = audio[i:i+chunk_samples]\n",
    "                    \n",
    "                    if len(chunk) == chunk_samples: #exactly 5 seconds\n",
    "                        clip_filename = f\"{filename}{clip_index:01d}.mp3\" #single digit index :o\n",
    "                        clip_path = os.path.join(output_dir, clip_filename)\n",
    "                        \n",
    "                        sf.write(clip_path, chunk, sample_rate)\n",
    "                        batch_clips.append(chunk.copy()) #avoid ref issues\n",
    "                        bathchs.append(clip_path)\n",
    "                        clip_index += 1\n",
    "                        \n",
    "                        if len(batch_clips) >= batch_size:\n",
    "                            break\n",
    "            except Exception as e:\n",
    "                #print(f\"error loading {file_path}: {str(e)}\")\n",
    "                continue\n",
    "            file_index+=1\n",
    "        if len(batch_clips) > 0:\n",
    "            print(f\"batch {batch_index+1} with {len(batch_clips)} clips\")\n",
    "            \n",
    "            yield batch_clips.copy(), bathchs.copy()\n",
    "            del batch_clips, bathchs\n",
    "            batch_index += 1\n",
    "            \n",
    "        else: break"
   ]
  },
  {
   "cell_type": "code",
   "execution_count": 3,
   "metadata": {},
   "outputs": [],
   "source": [
    "def clear_generated(generated_dir='./fma_generated'):\n",
    "    if os.path.exists(generated_dir):\n",
    "        for file in tqdm(os.listdir(generated_dir)):\n",
    "            if file.endswith('.mp3'):\n",
    "                os.remove(os.path.join(generated_dir, file))\n",
    "        os.rmdir(generated_dir)\n",
    "        print(f\"deleted absolutely everything within the following. directory. {generated_dir}\")"
   ]
  },
  {
   "cell_type": "code",
   "execution_count": 4,
   "metadata": {},
   "outputs": [
    {
     "name": "stderr",
     "output_type": "stream",
     "text": [
      "100%|██████████| 1016/1016 [00:00<00:00, 13764.39it/s]\n"
     ]
    },
    {
     "name": "stdout",
     "output_type": "stream",
     "text": [
      "deleted absolutely everything within the following. directory. ./fma_generated\n",
      "batch 1 with 1000 clips\n"
     ]
    }
   ],
   "source": [
    "clear_generated('./fma_generated')\n",
    "big_data = load_batches('./fma_small', sample_rate, batch_size, clip_length) #generator function\n",
    "batches=[]\n",
    "pathches=[]\n",
    "\n",
    "\n",
    "small_data, file_paths = next(big_data)\n",
    "batches.append(small_data)\n",
    "pathches.append(file_paths)"
   ]
  },
  {
   "cell_type": "code",
   "execution_count": 5,
   "metadata": {},
   "outputs": [
    {
     "name": "stdout",
     "output_type": "stream",
     "text": [
      "1000\n",
      "80000\n",
      "[-1.7075305e-10 -1.1975139e-09  1.4381516e-09 ...  2.1903120e-01\n",
      "  2.0611468e-01  1.5005562e-01]\n",
      "-7.7387097e-07\n",
      "0.1252519\n"
     ]
    }
   ],
   "source": [
    "print(len(batches[0])) #first batch is 100 clips\n",
    "print(len(batches[0][0])) #each clip is 30sec*5512 samples\n",
    "print(batches[0][0]) #each sample \n",
    "print(np.mean(batches[0][0]))\n",
    "print(np.std(batches[0][0]))"
   ]
  },
  {
   "cell_type": "markdown",
   "metadata": {},
   "source": [
    "choose either standardization or normalization. normalize for models\n",
    "https://en.wikipedia.org/wiki/Mel-frequency_cepstrum"
   ]
  },
  {
   "cell_type": "code",
   "execution_count": 6,
   "metadata": {},
   "outputs": [
    {
     "name": "stdout",
     "output_type": "stream",
     "text": [
      "(6, 157)\n",
      "[83.84733628 83.84733628 83.84733628 84.33305896 83.84733628  0.\n",
      "  0.          0.          0.          0.          0.          0.\n",
      "  0.          0.          0.          0.          0.          0.\n",
      "  0.          0.          0.          0.          0.          0.\n",
      "  0.          0.          0.          0.          0.          0.\n",
      "  0.          0.          0.          0.          0.          0.\n",
      "  0.          0.          0.          0.          0.          0.\n",
      "  0.          0.          0.          0.          0.          0.\n",
      "  0.          0.          0.          0.          0.          0.\n",
      "  0.          0.          0.          0.          0.          0.\n",
      "  0.          0.          0.          0.          0.          0.\n",
      "  0.          0.          0.          0.          0.          0.\n",
      "  0.          0.          0.          0.          0.          0.\n",
      "  0.          0.          0.          0.          0.          0.\n",
      "  0.          0.          0.          0.          0.          0.\n",
      "  0.          0.          0.          0.          0.          0.\n",
      "  0.          0.          0.          0.          0.          0.\n",
      "  0.          0.          0.          0.          0.          0.\n",
      "  0.          0.          0.          0.          0.          0.\n",
      "  0.          0.          0.          0.          0.          0.\n",
      "  0.          0.         66.16637698 66.16637698 66.16637698 66.54967491\n",
      " 65.40639133  0.          0.          0.          0.         75.56745061\n",
      " 74.69948441 74.26924704 74.69948441 74.69948441 74.26924704 73.84148765\n",
      " 73.84148765  0.         82.40688923 82.40688923 83.84733628 83.36441116\n",
      "  0.          0.          0.          0.         81.46036538 82.40688923\n",
      " 81.93226047 66.16637698 66.54967491 66.54967491  0.          0.\n",
      "  0.        ]\n"
     ]
    }
   ],
   "source": [
    "import scipy\n",
    "import sklearn.preprocessing\n",
    "def normalize(x, axis=0):\n",
    "    return sklearn.preprocessing.minmax_scale(x, axis=axis)\n",
    "\n",
    "def into_mfccs_quick(audio, sample_rate):\n",
    "    mfcc=librosa.feature.mfcc(y=audio, sr=sample_rate)\n",
    "    #print(mfcc)\n",
    "    if mfcc.max() == mfcc.min():\n",
    "        return False\n",
    "    return mfcc\n",
    "\n",
    "def into_spectral_contrast(audio, sample_rate):\n",
    "    spectral_contrast=librosa.feature.spectral_contrast(y=audio, sr=sample_rate)\n",
    "    if spectral_contrast.max() == spectral_contrast.min():\n",
    "        return False\n",
    "    return normalize(spectral_contrast, axis=1)\n",
    "\n",
    "def into_spectral_centroid(audio, sample_rate):\n",
    "    return librosa.feature.spectral_centroid(y=audio, sr=sample_rate)\n",
    "\n",
    "def into_melspecs(audio, sample_rate):\n",
    "    mel_spec=librosa.feature.melspectrogram(y=audio, sr=sample_rate)\n",
    "    #mel_db=librosa.power_to_db(mel_spec, ref=np.max) #scale to 1.0? perhaps??\n",
    "    #librosa.display.specshow(mel_db, fmax=None, sr=sample_rate, x_axis='time', y_axis='mel')\n",
    "    #plt.colorbar(format='%+2.0f dB')\n",
    "    \n",
    "    if mel_spec.max() == mel_spec.min():\n",
    "        #i'm getting nans???\n",
    "        return False\n",
    "    \n",
    "    #mel_normalized=2 * (mel_spec - mel_spec.min()) / (mel_spec.max() - mel_spec.min()) - 1\n",
    "    flattened = mel_spec.flatten()\n",
    "    #mel_standardized = (mel_db - np.mean(mel_db)) / np.std(mel_db)\n",
    "    #flattened = mel_standardized.flatten()\n",
    "    return flattened\n",
    "\n",
    "def into_textures(mel_spec, power = 2.0): #mel-frequency cepstrum. timbre\n",
    "    if mel_spec is False or mel_spec is None:\n",
    "        return False\n",
    "    try: \n",
    "        logged = np.log(mel_spec + np.full_like(mel_spec, 1e-5))\n",
    "        dct_powered = scipy.fft.dct(np.power(logged, power))\n",
    "        normalized_textures = (dct_powered - np.mean(dct_powered)) / (np.std(dct_powered))\n",
    "        return normalized_textures\n",
    "    except Exception as e:\n",
    "        print(f\"{e}\")\n",
    "        return False\n",
    "\n",
    "def into_freqs(audio, sample_rate):\n",
    "    output, _, probabilities = librosa.pyin(audio, fmin=librosa.note_to_hz('C2'), fmax=librosa.note_to_hz('C7'), sr=sample_rate, pad_mode='constant', n_thresholds = 10)\n",
    "    output = np.nan_to_num(output, -1)\n",
    "    #512 step\n",
    "    return output, probabilities\n",
    "\n",
    "def fourier_tempogram(audio, sample_rate):\n",
    "    return librosa.feature.fourier_tempogram(y=audio, sr=sample_rate, win_length=128)\n",
    "\n",
    "def tonal_centroid(audio, sample_rate):\n",
    "    return librosa.feature.tonnetz(y=audio, sr=sample_rate)\n",
    "\n",
    "test, testprob = into_freqs(batches[0][3], sample_rate)\n",
    "test2 = into_textures(into_melspecs(batches[0][0], sample_rate))\n",
    "test3 = into_mfccs_quick(batches[0][3], sample_rate)\n",
    "test4 = tonal_centroid(batches[0][3], sample_rate)\n",
    "# print(f\"{test2.shape}\\n{test}\")\n",
    "# print(f\"{test3.shape}\\n{test}\")\n",
    "print(f\"{test4.shape}\\n{test}\")"
   ]
  },
  {
   "cell_type": "markdown",
   "metadata": {},
   "source": [
    "filtering out that one clip that's not the right length"
   ]
  },
  {
   "cell_type": "code",
   "execution_count": 7,
   "metadata": {},
   "outputs": [
    {
     "name": "stdout",
     "output_type": "stream",
     "text": [
      "initial lengths:\n",
      " batches[0]: 1000 \n",
      " pathches[0]: 1000\n"
     ]
    },
    {
     "name": "stderr",
     "output_type": "stream",
     "text": [
      "into freqs processing:  30%|███       | 302/1000 [00:51<01:52,  6.20it/s]/Users/user/Desktop/coding comps/transition/venv/lib/python3.13/site-packages/librosa/core/pitch.py:103: UserWarning: Trying to estimate tuning from empty frequency set.\n",
      "  return pitch_tuning(\n",
      "into freqs processing: 100%|██████████| 1000/1000 [02:52<00:00,  5.81it/s]\n",
      "<timed exec>:85: ComplexWarning: Casting complex values to real discards the imaginary part\n"
     ]
    },
    {
     "name": "stdout",
     "output_type": "stream",
     "text": [
      "\n",
      "summary!\n",
      "initial total: 1000\n",
      "filtered mels count: 1000\n",
      "filtered paths count: 1000\n",
      "CPU times: user 2min 44s, sys: 1.68 s, total: 2min 45s\n",
      "Wall time: 2min 52s\n"
     ]
    }
   ],
   "source": [
    "%%time\n",
    "batches_mels=[]\n",
    "centroids=[]\n",
    "pathches_mels=[]\n",
    "freqs=[]\n",
    "probs=[]\n",
    "tempos=[]\n",
    "tones=[]\n",
    "\n",
    "temp=[]\n",
    "tempfreqs=[]\n",
    "tempprobs=[]\n",
    "tempmpograms=[]\n",
    "temptones=[]\n",
    "temproids=[]\n",
    "print(f'initial lengths:\\n batches[0]: {len(batches[0])} \\n pathches[0]: {len(pathches[0])}')\n",
    "for i, clip in enumerate(tqdm(batches[0], desc='into freqs processing')):\n",
    "   target_length = 1 + int(np.floor((clip_length * sample_rate)/512)) + 1 # 512 is default hop\n",
    "   \n",
    "   #mel_specs = into_melspecs(clip, sample_rate)\n",
    "   harmonic, percussive = librosa.effects.hpss(clip, margin=8)\n",
    "   mel_texture = into_mfccs_quick(clip, sample_rate)\n",
    "   #spectral_centroid = into_spectral_centroid(clip, sample_rate)\n",
    "   #mel_texture = into_mfccs_quick(clip, sample_rate)\n",
    "   fourier_temp = fourier_tempogram(clip, sample_rate) #perhaps only percussive?\n",
    "   tonnetz = tonal_centroid(harmonic, sample_rate)\n",
    "   \n",
    "   #mel_harmonics, probabilities = into_freqs(clip, sample_rate)\n",
    "   if mel_texture is False:\n",
    "      print(f'failure at {i} spectrogram')\n",
    "      continue\n",
    "      # temp.append(False)\n",
    "      # tempfreqs.append(False)\n",
    "      # #tempprobs.append(False)\n",
    "      # tempmpograms.append(False)\n",
    "      # temproids.append(False)\n",
    "      # temptones.append(False)\n",
    "      # continue\n",
    "   # mel_texture = into_textures(mel_specs)\n",
    "   # if mel_texture is False:\n",
    "   #    print(f'failure at {i} texture')\n",
    "   #    temp.append(False)\n",
    "   #    tempfreqs.append(False)\n",
    "   #    tempprobs.append(False)\n",
    "   #    continue\n",
    "   mel_texture = librosa.util.fix_length(mel_texture, size = target_length, axis=1)\n",
    "   #spectral_centroid = librosa.util.fix_length(spectral_centroid, size = target_length, axis=1)\n",
    "   tonnetz = librosa.util.fix_length(tonnetz, size = target_length, axis=1)\n",
    "   \n",
    "   temp.append(mel_texture) \n",
    "   #temproids.append(spectral_centroid)\n",
    "   #tempfreqs.append(mel_harmonics) #replaced freqs with tones\n",
    "   #tempprobs.append(probabilities)\n",
    "   tempmpograms.append(fourier_temp)\n",
    "   temptones.append(tonnetz)\n",
    "   \n",
    "   \n",
    "   \n",
    "   \n",
    "batches_mels.append(temp)\n",
    "centroids.append(temproids)\n",
    "#freqs.append(tempfreqs)\n",
    "tempos.append(tempmpograms)\n",
    "tones.append(temptones)\n",
    "#probs.append(tempprobs)\n",
    "pathches_mels.append(pathches[0])\n",
    "\n",
    "lengths = [len(i) for i in batches_mels[0] if i is not False]\n",
    "most_common_length = max(set(lengths), key=lengths.count)\n",
    "filtered_paths = [path for mel, path in zip(batches_mels[0], pathches[0]) if mel is not False and len(mel) == most_common_length]\n",
    "#filtered_freqs = [freq for mel, freq in zip(batches_mels[0], freqs[0]) if mel is not False and len(mel) == most_common_length]\n",
    "filtered_tempos = [tempo for mel, tempo in zip(batches_mels[0], tempos[0]) if mel is not False and len(mel) == most_common_length]\n",
    "filtered_tones = [tone for mel, tone in zip(batches_mels[0], tones[0]) if mel is not False and len(mel) == most_common_length]\n",
    "#filtered_centroids = [centroid for mel, centroid in zip(batches_mels[0], centroids[0]) if mel is not False and len(mel) == most_common_length]\n",
    "#filtered_probs = [prob for mel, prob in zip(batches_mels[0], probs[0]) if mel is not False and len(mel) == most_common_length]\n",
    "filtered_mels = [mel for mel in batches_mels[0] if mel is not False and len(mel) == most_common_length]\n",
    "\n",
    "print(f\"\\nsummary!\")\n",
    "print(f\"initial total: {len(batches[0])}\")\n",
    "print(f\"filtered mels count: {len(filtered_mels)}\")\n",
    "print(f\"filtered paths count: {len(filtered_paths)}\")\n",
    "\n",
    "batches_mels[0] = np.array(filtered_mels, dtype=np.float32)\n",
    "#centroids[0] = np.array(filtered_centroids, dtype=np.float32)\n",
    "#freqs[0] = filtered_freqs\n",
    "tempos[0] = np.array(filtered_tempos, dtype=np.float32)\n",
    "tones[0] = np.array(filtered_tones, dtype=np.float32)\n",
    "#probs[0] = filtered_probs\n",
    "pathches_mels[0] = filtered_paths\n",
    "tempos[0]= np.array(tempos[0])\n",
    "tones[0] = np.array(tones[0])\n",
    "\n",
    "#flatten everything:\n",
    "batches_mels[0] = batches_mels[0].reshape(batches_mels[0].shape[0], -1)  \n",
    "#centroids[0] = centroids[0].reshape(centroids[0].shape[0], -1)  \n",
    "tempos[0] = tempos[0].reshape(tempos[0].shape[0], -1) \n",
    "tones[0] = tones[0].reshape(tones[0].shape[0], -1) \n"
   ]
  },
  {
   "cell_type": "markdown",
   "metadata": {},
   "source": [
    "normalization"
   ]
  },
  {
   "cell_type": "code",
   "execution_count": 11,
   "metadata": {},
   "outputs": [],
   "source": [
    "import numpy as np\n",
    "from sklearn.preprocessing import StandardScaler\n",
    "\n",
    "# ---------- helper ---------------------------------------------------------\n",
    "def whiten_and_weight(block, d_ref):\n",
    "    #standardization\n",
    "    block = StandardScaler().fit_transform(block)\n",
    "\n",
    "    #dim scaling\n",
    "    d_block = block.shape[1]\n",
    "    weight  = np.sqrt(d_ref / d_block) \n",
    "    return block * weight\n",
    "# --------------------------------------------------------------------------\n",
    "\n",
    "# choose the smallest block's dimension as reference\n",
    "d_ref = tones[0].shape[1]     # 948\n",
    "\n",
    "# apply to every block\n",
    "mfccs_scaled = whiten_and_weight(batches_mels[0], d_ref) #spectral contrast is also dogshit. but mfccs did somewhat do something\n",
    "tempograms_scaled = whiten_and_weight(np.real(tempos[0]), d_ref)  #works but it has a poorly motivated purpose\n",
    "tonnetzs_scaled = whiten_and_weight(tones[0],         d_ref)    #decent\n",
    "#centroids_scaled = whiten_and_weight(centroids[0], d_ref) #dogshit\n",
    "\n",
    "combined = np.hstack([mfccs_scaled, tempograms_scaled, tonnetzs_scaled])"
   ]
  },
  {
   "cell_type": "markdown",
   "metadata": {},
   "source": [
    "no custom metrics! no need for them :)"
   ]
  },
  {
   "cell_type": "code",
   "execution_count": null,
   "metadata": {},
   "outputs": [
    {
     "name": "stderr",
     "output_type": "stream",
     "text": [
      "/Users/user/Desktop/coding comps/transition/venv/lib/python3.13/site-packages/sklearn/utils/deprecation.py:151: FutureWarning: 'force_all_finite' was renamed to 'ensure_all_finite' in 1.6 and will be removed in 1.8.\n",
      "  warnings.warn(\n"
     ]
    },
    {
     "name": "stdout",
     "output_type": "stream",
     "text": [
      "CPU times: user 4.62 s, sys: 270 ms, total: 4.89 s\n",
      "Wall time: 3.07 s\n"
     ]
    }
   ],
   "source": [
    "%%time\n",
    "#not using metric\n",
    "unsup_embedding = umap.UMAP(n_neighbors=30, n_components = 20).fit_transform(combined)"
   ]
  },
  {
   "cell_type": "markdown",
   "metadata": {},
   "source": [
    "thank you gpt. i would never read all this documentation"
   ]
  },
  {
   "cell_type": "code",
   "execution_count": 14,
   "metadata": {},
   "outputs": [
    {
     "name": "stdout",
     "output_type": "stream",
     "text": [
      "Serving 1000 audio clips\n",
      "Audio files served from: /Users/user/Desktop/coding comps/transition/fma_generated\n"
     ]
    },
    {
     "data": {
      "text/html": [
       "\n",
       "        <iframe\n",
       "            width=\"100%\"\n",
       "            height=\"650\"\n",
       "            src=\"http://127.0.0.1:8050/\"\n",
       "            frameborder=\"0\"\n",
       "            allowfullscreen\n",
       "            \n",
       "        ></iframe>\n",
       "        "
      ],
      "text/plain": [
       "<IPython.lib.display.IFrame at 0x32c757cb0>"
      ]
     },
     "metadata": {},
     "output_type": "display_data"
    }
   ],
   "source": [
    "import dash\n",
    "from dash import dcc, html, Input, Output\n",
    "import plotly.express as px\n",
    "import pandas as pd\n",
    "import os\n",
    "import flask\n",
    "import librosa\n",
    "import numpy as np\n",
    "\n",
    "# After your UMAP processing and filtering...\n",
    "# Create DataFrame from your clip data\n",
    "def create_clip_dataframe(umap_embedding, pathches_mels):\n",
    "    \"\"\"\n",
    "    Create DataFrame for clips instead of full audio files\n",
    "    \"\"\"\n",
    "    df = pd.DataFrame({\n",
    "        'UMAP1': umap_embedding[:, 0],\n",
    "        'UMAP2': umap_embedding[:, 1], \n",
    "        'Clip_Path': pathches_mels,\n",
    "        'Original_File': [extract_original_filename(path) for path in pathches_mels],\n",
    "        'Clip_Index': [extract_clip_index(path) for path in pathches_mels]\n",
    "    })\n",
    "    \n",
    "    # Create audio URLs for serving\n",
    "    df['audio_url'] = df['Clip_Path'].apply(get_clip_audio_url)\n",
    "    \n",
    "    return df\n",
    "\n",
    "def extract_original_filename(clip_path):\n",
    "    \"\"\"Extract original filename from clip path\"\"\"\n",
    "    # ./fma_generated/000002_clip_000.mp3 -> 000002\n",
    "    basename = os.path.basename(clip_path)\n",
    "    # Remove extension and clip suffix\n",
    "    name_without_ext = os.path.splitext(basename)[0]\n",
    "    # Split on '_clip_' and take first part\n",
    "    if '_clip_' in name_without_ext:\n",
    "        return name_without_ext.split('_clip_')[0]\n",
    "    return name_without_ext\n",
    "\n",
    "def extract_clip_index(clip_path):\n",
    "    \"\"\"Extract clip index from clip path\"\"\"\n",
    "    # ./fma_generated/000002_clip_000.mp3 -> 0\n",
    "    basename = os.path.basename(clip_path)\n",
    "    name_without_ext = os.path.splitext(basename)[0]\n",
    "    if '_clip_' in name_without_ext:\n",
    "        try:\n",
    "            return int(name_without_ext.split('_clip_')[1])\n",
    "        except (ValueError, IndexError):\n",
    "            return 0\n",
    "    return 0\n",
    "\n",
    "def get_clip_audio_url(clip_path):\n",
    "    \"\"\"Convert clip path to URL for serving\"\"\"\n",
    "    # ./fma_generated/000002_clip_000.mp3 -> /audio/000002_clip_000.mp3\n",
    "    filename = os.path.basename(clip_path)\n",
    "    return f'/audio/{filename}'\n",
    "\n",
    "# Create your DataFrame\n",
    "df = create_clip_dataframe(unsup_embedding, pathches_mels[0])\n",
    "\n",
    "# Initialize Dash app\n",
    "app = dash.Dash(__name__)\n",
    "\n",
    "# Set up audio serving directory (your generated clips)\n",
    "AUDIO_DIR = os.path.abspath('fma_generated')  # Changed from 'fma_small' to 'fma_generated'\n",
    "\n",
    "@app.server.route('/audio/<path:filename>')\n",
    "def serve_audio(filename):\n",
    "    \"\"\"Serve audio clips from fma_generated directory\"\"\"\n",
    "    if '..' in filename or filename.startswith('/'):\n",
    "        flask.abort(404)\n",
    "    return flask.send_from_directory(AUDIO_DIR, filename)\n",
    "\n",
    "# Create the scatter plot\n",
    "fig = px.scatter(\n",
    "    df, \n",
    "    x=\"UMAP1\", \n",
    "    y=\"UMAP2\", \n",
    "    hover_data=[\"Original_File\", \"Clip_Index\"], \n",
    "    custom_data=['audio_url'],\n",
    "    title=\"UMAP\",\n",
    "    labels={'UMAP1': 'Arbitrary Dimension 1', 'UMAP2': 'Arbitrary Dimension 2'}\n",
    ")\n",
    "\n",
    "fig.update_layout(\n",
    "    autosize=True,\n",
    "    height=600  # Set minimum height\n",
    ")\n",
    "\n",
    "# Update hover template to show clip info\n",
    "fig.update_traces(\n",
    "    hovertemplate=\"<b>Original File:</b> %{customdata[1]}<br>\" +\n",
    "                  \"<b>Clip Index:</b> %{customdata[2]}<br>\" +\n",
    "                  \"<b>UMAP1:</b> %{x}<br>\" +\n",
    "                  \"<b>UMAP2:</b> %{y}<extra></extra>\"\n",
    ")\n",
    "\n",
    "app.layout = html.Div([\n",
    "    #html.H1(\"analysis\", style={'textAlign': 'center'}),\n",
    "    #html.P(f\"this many!!! {len(df)} audio clips\", style={'textAlign': 'center'}),\n",
    "    dcc.Graph(id=\"scatter\", figure=fig),\n",
    "    html.Div([\n",
    "        html.Audio(id='audio-player', controls=True, src=''),\n",
    "        html.Div(id='clip-info', style={'marginTop': '10px'})\n",
    "    ], style={'margin': '20px'})\n",
    "])\n",
    "\n",
    "@app.callback(\n",
    "    [Output('audio-player', 'src'),\n",
    "     Output('clip-info', 'children')],\n",
    "    Input('scatter', 'clickData')\n",
    ")\n",
    "def update_audio(clickData):\n",
    "    if clickData and \"points\" in clickData:\n",
    "        audio_url = clickData[\"points\"][0][\"customdata\"][0]\n",
    "        \n",
    "        # Get point index to show clip info\n",
    "        point_idx = clickData[\"points\"][0][\"pointIndex\"]\n",
    "        clip_info = html.Div([\n",
    "            html.P(f\"file path: {df.iloc[point_idx]['Original_File']}{df.iloc[point_idx]['Clip_Index']:01d}.mp3\"),\n",
    "            html.P(f\"({df.iloc[point_idx]['UMAP1']:.3f}, {df.iloc[point_idx]['UMAP2']:.3f})\")\n",
    "        ])\n",
    "        \n",
    "        return audio_url, clip_info\n",
    "    \n",
    "    return '', html.P(\"\")\n",
    "\n",
    "if __name__ == \"__main__\":\n",
    "    print(f\"Serving {len(df)} audio clips\")\n",
    "    print(f\"Audio files served from: {AUDIO_DIR}\")\n",
    "    app.run(debug=True) "
   ]
  },
  {
   "cell_type": "code",
   "execution_count": 13,
   "metadata": {},
   "outputs": [
    {
     "data": {
      "image/png": "[encoded data removed]",
      "text/plain": [
       "<Figure size 1400x1000 with 1 Axes>"
      ]
     },
     "metadata": {},
     "output_type": "display_data"
    }
   ],
   "source": [
    "plt.figure(figsize=(14, 10))\n",
    "plt.scatter(unsup_embedding[:, 0], unsup_embedding[:, 1])\n",
    "plt.title('unsup umap')\n",
    "plt.show()"
   ]
  },
  {
   "cell_type": "markdown",
   "metadata": {},
   "source": [
    "okay so integer linear programming is totally unfeasible since solvers still explore something on the scale of literally every path. thus i shall use heuristic stuff. wait though. if i have a metric i believe in this is this basically slightly obfuscated direct programming? no. because umap guarantees distances satisfy triangle inequality. not sure if my metirc was originally triangleproof tho"
   ]
  },
  {
   "cell_type": "markdown",
   "metadata": {},
   "source": [
    "okay so basically i'm going to implement christofides"
   ]
  },
  {
   "cell_type": "markdown",
   "metadata": {},
   "source": [
    "in conclusion christofides' sucks ASS!!!!?????"
   ]
  },
  {
   "cell_type": "code",
   "execution_count": 15,
   "metadata": {},
   "outputs": [],
   "source": [
    "\n",
    "def path_sounds_like(walk_path_thing, output_directory=\"./fma_generated\"):\n",
    "    combined_audio=[]\n",
    "    for index, location in enumerate(walk_path_thing):\n",
    "        file_path = pathches_mels[0][location]\n",
    "        audio, _ = librosa.load(file_path, sr=sample_rate)\n",
    "        combined_audio=np.concatenate([combined_audio,audio])\n",
    "        if index>200:\n",
    "            break\n",
    "    print(np.shape(combined_audio))\n",
    "    clip_name = f\"00000000combined.mp3\"\n",
    "    clip_path = os.path.join(output_directory, clip_name)\n",
    "    sf.write(clip_path, combined_audio, sample_rate)\n",
    "\n",
    "#path_sounds_like(walk_path_thing=walk)"
   ]
  },
  {
   "cell_type": "code",
   "execution_count": 16,
   "metadata": {},
   "outputs": [
    {
     "name": "stderr",
     "output_type": "stream",
     "text": [
      "100%|██████████| 1000/1000 [00:01<00:00, 527.75it/s]"
     ]
    },
    {
     "name": "stdout",
     "output_type": "stream",
     "text": [
      "Shape: (1000, 1000)\n",
      "Dtype: int64\n",
      "Symmetric: True\n",
      "Diagonal 0s: True\n",
      "Any NaNs: False\n",
      "Max distance: 4024\n",
      "Min (nonzero) distance: 24\n",
      "CPU times: user 1.63 s, sys: 631 ms, total: 2.27 s\n",
      "Wall time: 1.95 s\n"
     ]
    },
    {
     "name": "stderr",
     "output_type": "stream",
     "text": [
      "\n"
     ]
    }
   ],
   "source": [
    "%%time\n",
    "import elkai\n",
    "\n",
    "\n",
    "fixed_len = len(batches_mels[0])\n",
    "elkaidists=np.zeros((fixed_len, fixed_len), dtype=int)\n",
    "dists=[]\n",
    "dist_ids=[]\n",
    "for i in tqdm(range(fixed_len)):\n",
    "    for j in range(i+1, fixed_len):\n",
    "        edist=int(round(np.linalg.norm(unsup_embedding[i]-unsup_embedding[j]) * 1000))\n",
    "        dists.append(edist)\n",
    "        elkaidists[i, j]=edist\n",
    "        elkaidists[j, i]=edist\n",
    "\n",
    "\n",
    "import numpy as np\n",
    "\n",
    "print(\"Shape:\", elkaidists.shape)\n",
    "print(\"Dtype:\", elkaidists.dtype)\n",
    "print(\"Symmetric:\", np.allclose(elkaidists, elkaidists.T))\n",
    "print(\"Diagonal 0s:\", np.all(np.diag(elkaidists) == 0))\n",
    "print(\"Any NaNs:\", np.any(np.isnan(elkaidists)))\n",
    "print(\"Max distance:\", np.max(elkaidists))\n",
    "print(\"Min (nonzero) distance:\", np.min(elkaidists[np.nonzero(elkaidists)]))"
   ]
  },
  {
   "cell_type": "code",
   "execution_count": 17,
   "metadata": {},
   "outputs": [
    {
     "name": "stdout",
     "output_type": "stream",
     "text": [
      "(16160000,)\n",
      "[0, 260, 736, 739, 281, 565, 568, 255, 258, 874, 896, 876, 88, 869, 91, 146, 204, 282, 202, 617, 62, 731, 894, 743, 92, 89, 531, 667, 207, 419, 890, 719, 546, 543, 545, 547, 421, 418, 463, 36, 33, 34, 435, 697, 478, 436, 745, 37, 298, 986, 488, 487, 486, 484, 485, 513, 586, 585, 628, 399, 402, 400, 403, 404, 401, 797, 717, 373, 374, 856, 855, 335, 407, 800, 674, 511, 134, 336, 338, 337, 334, 650, 835, 838, 839, 836, 927, 834, 708, 502, 97, 94, 98, 95, 837, 387, 680, 683, 223, 226, 519, 817, 814, 815, 812, 816, 813, 225, 642, 386, 938, 71, 70, 69, 68, 66, 67, 962, 959, 434, 264, 262, 347, 677, 941, 939, 942, 964, 940, 943, 961, 963, 904, 902, 901, 905, 903, 410, 786, 704, 705, 707, 703, 706, 702, 935, 409, 489, 584, 833, 583, 213, 405, 625, 214, 582, 673, 877, 944, 678, 537, 61, 363, 848, 274, 277, 695, 432, 635, 630, 633, 473, 474, 476, 475, 477, 693, 631, 534, 533, 692, 9, 470, 10, 469, 540, 467, 472, 471, 632, 501, 503, 499, 427, 431, 429, 78, 634, 428, 430, 670, 2, 741, 417, 924, 950, 889, 164, 953, 394, 699, 701, 775, 778, 886, 892, 81, 80, 79, 82, 77, 891, 395, 397, 994, 659, 893, 291, 574, 576, 771, 572, 809, 278, 947, 420, 358, 948, 945, 946, 882, 273, 989, 658, 664, 602, 829, 530, 662, 738, 995, 740, 811, 808, 895, 426, 826, 535, 825, 423, 691, 824, 532, 828, 992, 424, 425, 827, 536, 872, 571, 126, 482, 588, 968, 333, 292, 589, 587, 592, 694, 620, 147, 871, 868, 149, 780, 870, 622, 832, 119, 354, 35, 451, 594, 351, 624, 621, 352, 616, 596, 593, 38, 293, 353, 294, 350, 290, 325, 324, 326, 327, 328, 591, 590, 553, 549, 552, 551, 548, 821, 550, 932, 479, 931, 930, 858, 308, 309, 157, 579, 840, 159, 844, 842, 843, 841, 156, 609, 113, 768, 116, 807, 810, 56, 58, 153, 830, 150, 152, 154, 151, 966, 822, 608, 122, 124, 121, 831, 372, 976, 781, 362, 846, 483, 820, 496, 17, 851, 74, 921, 854, 956, 672, 727, 724, 270, 234, 106, 133, 799, 375, 269, 268, 567, 570, 720, 242, 649, 241, 729, 459, 239, 457, 449, 569, 566, 755, 756, 867, 864, 460, 461, 458, 865, 866, 863, 237, 761, 757, 759, 758, 760, 762, 235, 236, 958, 238, 491, 721, 723, 794, 644, 718, 767, 853, 715, 955, 267, 646, 406, 493, 492, 539, 984, 8, 265, 7, 191, 174, 562, 878, 563, 247, 192, 246, 195, 577, 580, 6, 5, 212, 211, 210, 208, 209, 845, 243, 120, 131, 109, 798, 645, 339, 788, 787, 766, 514, 111, 320, 115, 322, 158, 118, 57, 60, 818, 312, 379, 377, 357, 11, 371, 709, 847, 233, 356, 456, 240, 340, 341, 343, 344, 444, 446, 445, 448, 447, 909, 907, 908, 558, 557, 555, 556, 911, 910, 981, 982, 980, 773, 777, 188, 437, 438, 422, 128, 776, 129, 186, 544, 190, 189, 125, 127, 462, 187, 465, 466, 653, 652, 655, 657, 656, 654, 279, 280, 114, 112, 110, 276, 600, 660, 661, 599, 746, 259, 983, 300, 789, 193, 732, 735, 819, 393, 48, 398, 177, 516, 162, 923, 687, 685, 689, 686, 690, 688, 454, 455, 453, 698, 696, 700, 464, 595, 804, 806, 805, 803, 802, 23, 22, 25, 24, 26, 85, 84, 138, 139, 135, 136, 137, 179, 178, 176, 611, 414, 615, 619, 232, 230, 231, 229, 228, 183, 182, 185, 184, 181, 175, 297, 299, 296, 86, 83, 301, 87, 411, 203, 991, 314, 50, 54, 52, 51, 53, 55, 180, 160, 926, 922, 161, 601, 59, 155, 969, 666, 319, 598, 614, 433, 559, 970, 321, 763, 971, 974, 764, 972, 765, 561, 564, 560, 205, 206, 610, 443, 442, 20, 16, 376, 19, 43, 919, 132, 130, 165, 263, 261, 668, 796, 105, 201, 198, 196, 199, 108, 107, 360, 361, 490, 408, 722, 669, 716, 173, 172, 967, 578, 581, 200, 197, 928, 957, 954, 439, 440, 286, 288, 289, 285, 287, 284, 194, 224, 227, 385, 384, 383, 933, 936, 937, 934, 795, 627, 520, 711, 713, 712, 710, 790, 793, 973, 250, 253, 675, 249, 252, 248, 244, 785, 784, 791, 251, 254, 643, 215, 217, 216, 651, 684, 681, 682, 679, 792, 245, 597, 72, 73, 801, 725, 512, 76, 823, 75, 880, 883, 881, 879, 997, 999, 998, 996, 272, 271, 852, 714, 929, 917, 348, 345, 626, 346, 510, 975, 979, 993, 93, 96, 18, 44, 21, 862, 441, 918, 41, 42, 39, 500, 40, 528, 283, 366, 744, 915, 912, 365, 355, 167, 515, 364, 266, 99, 100, 102, 104, 101, 103, 497, 123, 63, 332, 166, 329, 64, 965, 65, 861, 857, 148, 218, 222, 925, 311, 310, 142, 480, 256, 518, 647, 913, 916, 850, 676, 977, 750, 748, 751, 508, 506, 507, 742, 504, 141, 505, 517, 481, 498, 985, 117, 15, 390, 388, 392, 389, 391, 275, 369, 368, 370, 367, 306, 307, 305, 303, 304, 302, 613, 330, 331, 612, 906, 960, 618, 987, 988, 990, 145, 782, 412, 415, 416, 413, 733, 323, 730, 734, 45, 46, 47, 49, 607, 606, 604, 603, 605, 523, 521, 524, 382, 381, 380, 525, 522, 952, 752, 378, 951, 885, 163, 949, 754, 753, 638, 144, 171, 170, 648, 4, 13, 12, 14, 914, 349, 629, 920, 978, 538, 468, 541, 542, 849, 90, 575, 169, 509, 168, 779, 873, 783, 526, 737, 900, 573, 898, 772, 342, 3, 769, 494, 663, 665, 527, 529, 637, 640, 639, 888, 140, 887, 554, 774, 875, 495, 747, 749, 726, 728, 143, 219, 220, 295, 623, 315, 450, 313, 897, 860, 318, 452, 396, 859, 316, 899, 28, 636, 884, 671, 770, 641, 29, 317, 221, 31, 32, 257, 359, 27, 30, 1]\n"
     ]
    }
   ],
   "source": [
    "walk = elkai.solve_int_matrix(elkaidists.tolist())\n",
    "path_sounds_like(walk_path_thing=walk)\n",
    "print(walk)"
   ]
  },
  {
   "cell_type": "markdown",
   "metadata": {},
   "source": [
    "path verification"
   ]
  },
  {
   "cell_type": "code",
   "execution_count": 18,
   "metadata": {},
   "outputs": [],
   "source": [
    "import plotly.graph_objects as go\n",
    "import plotly.express as px\n",
    "\n",
    "# ------------------------------------------------------------\n",
    "# 1.  Build a DataFrame (already done)\n",
    "df = create_clip_dataframe(unsup_embedding, pathches_mels[0])\n",
    "\n",
    "# ------------------------------------------------------------\n",
    "# 2.  Your existing scatter\n",
    "fig = px.scatter(\n",
    "    df,\n",
    "    x=\"UMAP1\",\n",
    "    y=\"UMAP2\",\n",
    "    hover_data=[\"Original_File\", \"Clip_Index\"],\n",
    "    custom_data=[\"audio_url\"],\n",
    "    title=\"UMAP\",\n",
    "    labels={\"UMAP1\": \"Arbitrary Dimension 1\",\n",
    "            \"UMAP2\": \"Arbitrary Dimension 2\"}\n",
    ")\n",
    "\n",
    "# ------------------------------------------------------------\n",
    "# 3.  Add a path trace\n",
    "#    `walk` is an ordered list/array of indices into df/embedding\n",
    "xs = df.loc[walk, \"UMAP1\"]\n",
    "ys = df.loc[walk, \"UMAP2\"]\n",
    "\n",
    "fig.add_trace(\n",
    "    go.Scatter(\n",
    "        x=xs,\n",
    "        y=ys,\n",
    "        mode=\"lines+markers\",\n",
    "        line=dict(color=\"red\", width=2),\n",
    "        marker=dict(size=6, symbol=\"circle\"),\n",
    "        name=\"Path\"\n",
    "    )\n",
    ")\n",
    "\n",
    "fig.update_layout(\n",
    "    autosize=True,\n",
    "    height=600\n",
    ")\n",
    "\n",
    "# ------------------------------------------------------------\n",
    "# 4.  Dash layout stays the same\n",
    "app.layout = html.Div([\n",
    "    dcc.Graph(id=\"scatter\", figure=fig),\n",
    "    html.Div([\n",
    "        html.Audio(id=\"audio-player\", controls=True, src=\"\"),\n",
    "        html.Div(id=\"clip-info\", style={\"marginTop\": \"10px\"})\n",
    "    ], style={\"margin\": \"20px\"})\n",
    "])\n"
   ]
  },
  {
   "cell_type": "code",
   "execution_count": null,
   "metadata": {},
   "outputs": [],
   "source": []
  }
 ],
 "metadata": {
  "kernelspec": {
   "display_name": "venv",
   "language": "python",
   "name": "python3"
  },
  "language_info": {
   "codemirror_mode": {
    "name": "ipython",
    "version": 3
   },
   "file_extension": ".py",
   "mimetype": "text/x-python",
   "name": "python",
   "nbconvert_exporter": "python",
   "pygments_lexer": "ipython3",
   "version": "3.13.2"
  }
 },
 "nbformat": 4,
 "nbformat_minor": 2
}
