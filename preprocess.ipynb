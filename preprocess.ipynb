{
 "cells": [
  {
   "cell_type": "markdown",
   "metadata": {},
   "source": [
    "### SETUP\n",
    "\n",
    "1. \n",
    "   bash\n",
    "   python3 -m venv venv\n",
    "   \n",
    "\n",
    "2. Activate the virtual environment:\n",
    "   bash\n",
    "   source venv/bin/activate\n",
    "\n",
    "3. Install requirements:\n",
    "   bash\n",
    "   pip install -r reqs.txt\n"
   ]
  },
  {
   "cell_type": "markdown",
   "metadata": {},
   "source": [
    "#### import things"
   ]
  },
  {
   "cell_type": "code",
   "execution_count": null,
   "metadata": {
    "vscode": {
     "languageId": "plaintext"
    }
   },
   "outputs": [],
   "source": [
    "import time\n",
    "import os\n",
    "\n",
    "import torch\n",
    "import torchvision\n",
    "import torchvision.models as models\n",
    "import torch.nn as nn\n",
    "import torch.nn.functional as F\n",
    "import torch.optim as optim\n",
    "from torchsummary import summary\n",
    "\n",
    "from torch.utils.data import DataLoader, TensorDataset, Dataset\n",
    "from torchvision.utils import make_grid\n",
    "from torchvision.transforms import v2 as T\n",
    "from torchvision.transforms.v2 import functional as TF\n",
    "from torchvision import models, datasets\n",
    "from torchvision import tv_tensors\n",
    "\n",
    "from tqdm.notebook import tqdm\n",
    "\n",
    "import einops\n",
    "import numpy as np\n",
    "from matplotlib import pyplot as plt\n",
    "from random import randint\n",
    "\n",
    "import torchvision.datasets as dset\n",
    "import json\n",
    "\n",
    "from itertools import product\n",
    "\n",
    "#device = torch.device('cuda:0' if torch.cuda.is_available() else 'cpu')\n"
   ]
  },
  {
   "cell_type": "markdown",
   "metadata": {},
   "source": [
    "#### processing"
   ]
  },
  {
   "cell_type": "code",
   "execution_count": null,
   "metadata": {
    "vscode": {
     "languageId": "plaintext"
    }
   },
   "outputs": [],
   "source": [
    "class custom_dataset(Dataset):\n",
    "    def __init__(self, num_examples, ):\n",
    "        pass # Insert your code here to initialize the dataset and load up what you need\n",
    "\n",
    "    def __getitem__(self, idx):\n",
    "        pass # Figure out how to load up and return the idx-th item in the dataset\n",
    "        return x, label, other_misc_information_you_may_want\n",
    "\n",
    "    def __len__(self):\n",
    "        pass # Return the length of the dataset"
   ]
  }
 ],
 "metadata": {
  "language_info": {
   "name": "python"
  }
 },
 "nbformat": 4,
 "nbformat_minor": 2
}
